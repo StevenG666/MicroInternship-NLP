{
 "cells": [
  {
   "cell_type": "code",
   "execution_count": 8,
   "id": "895495ff",
   "metadata": {},
   "outputs": [],
   "source": [
    "# Import Libraries\n",
    "from sklearn.model_selection import train_test_split\n",
    "from sklearn.linear_model import LogisticRegression\n",
    "from sklearn.metrics import confusion_matrix, ConfusionMatrixDisplay,classification_report\n",
    "from sklearn.feature_extraction.text import TfidfVectorizer\n",
    "from sklearn.impute import SimpleImputer\n",
    "\n",
    "from nltk.tokenize  import word_tokenize\n",
    "import nltk\n",
    "import numpy as np\n",
    "import pandas as pd\n",
    "import matplotlib.pyplot as plt\n",
    "import matplotlib.legend as leg"
   ]
  },
  {
   "cell_type": "code",
   "execution_count": 2,
   "id": "1f056436",
   "metadata": {},
   "outputs": [
    {
     "data": {
      "text/html": [
       "<div>\n",
       "<style scoped>\n",
       "    .dataframe tbody tr th:only-of-type {\n",
       "        vertical-align: middle;\n",
       "    }\n",
       "\n",
       "    .dataframe tbody tr th {\n",
       "        vertical-align: top;\n",
       "    }\n",
       "\n",
       "    .dataframe thead th {\n",
       "        text-align: right;\n",
       "    }\n",
       "</style>\n",
       "<table border=\"1\" class=\"dataframe\">\n",
       "  <thead>\n",
       "    <tr style=\"text-align: right;\">\n",
       "      <th></th>\n",
       "      <th>findings</th>\n",
       "      <th>clinicaldata</th>\n",
       "      <th>ExamName</th>\n",
       "      <th>impression</th>\n",
       "    </tr>\n",
       "  </thead>\n",
       "  <tbody>\n",
       "    <tr>\n",
       "      <th>0</th>\n",
       "      <td>FINDINGS: Lungs/Pleura: No focal opacities evi...</td>\n",
       "      <td>CLINICAL HISTORY: Cough. \\n\\n</td>\n",
       "      <td>EXAM: CHEST RADIOGRAPHY EXAM DATE: 06/01/2019 ...</td>\n",
       "      <td>IMPRESSION: Normal 2-view chest radiography.</td>\n",
       "    </tr>\n",
       "    <tr>\n",
       "      <th>1</th>\n",
       "      <td>FINDINGS: Lungs/Pleura: No focal opacities evi...</td>\n",
       "      <td>CLINICAL HISTORY: CHEST PAIN. \\n\\n</td>\n",
       "      <td>EXAM: CHEST RADIOGRAPHY EXAM DATE: 05/23/2020 ...</td>\n",
       "      <td>IMPRESSION: No acute cardiopulmonary abnormali...</td>\n",
       "    </tr>\n",
       "    <tr>\n",
       "      <th>2</th>\n",
       "      <td>FINDINGS: Lungs/Pleura: No focal opacities evi...</td>\n",
       "      <td>CLINICAL HISTORY: CHEST PAIN. \\n\\n</td>\n",
       "      <td>EXAM: CHEST RADIOGRAPHY EXAM DATE: 12/13/2019 ...</td>\n",
       "      <td>IMPRESSION: No acute cardiopulmonary process.</td>\n",
       "    </tr>\n",
       "    <tr>\n",
       "      <th>3</th>\n",
       "      <td>Findings: Heart size appears normal. Lungs cle...</td>\n",
       "      <td>History: Chest pain \\n\\n</td>\n",
       "      <td>Exam: - CHEST-PORTABLE\\n\\nComparison: None</td>\n",
       "      <td>Impression: Lungs clear</td>\n",
       "    </tr>\n",
       "    <tr>\n",
       "      <th>4</th>\n",
       "      <td>FINDINGS: Lungs/Pleura: No focal opacities evi...</td>\n",
       "      <td>CLINICAL HISTORY: CHEST PAIN, SHORTNESS OF BRE...</td>\n",
       "      <td>EXAM: CHEST RADIOGRAPHY EXAM DATE: 06/17/2021 ...</td>\n",
       "      <td>IMPRESSION: Normal single view chest.</td>\n",
       "    </tr>\n",
       "  </tbody>\n",
       "</table>\n",
       "</div>"
      ],
      "text/plain": [
       "                                            findings  \\\n",
       "0  FINDINGS: Lungs/Pleura: No focal opacities evi...   \n",
       "1  FINDINGS: Lungs/Pleura: No focal opacities evi...   \n",
       "2  FINDINGS: Lungs/Pleura: No focal opacities evi...   \n",
       "3  Findings: Heart size appears normal. Lungs cle...   \n",
       "4  FINDINGS: Lungs/Pleura: No focal opacities evi...   \n",
       "\n",
       "                                        clinicaldata  \\\n",
       "0                      CLINICAL HISTORY: Cough. \\n\\n   \n",
       "1                 CLINICAL HISTORY: CHEST PAIN. \\n\\n   \n",
       "2                 CLINICAL HISTORY: CHEST PAIN. \\n\\n   \n",
       "3                           History: Chest pain \\n\\n   \n",
       "4  CLINICAL HISTORY: CHEST PAIN, SHORTNESS OF BRE...   \n",
       "\n",
       "                                            ExamName  \\\n",
       "0  EXAM: CHEST RADIOGRAPHY EXAM DATE: 06/01/2019 ...   \n",
       "1  EXAM: CHEST RADIOGRAPHY EXAM DATE: 05/23/2020 ...   \n",
       "2  EXAM: CHEST RADIOGRAPHY EXAM DATE: 12/13/2019 ...   \n",
       "3         Exam: - CHEST-PORTABLE\\n\\nComparison: None   \n",
       "4  EXAM: CHEST RADIOGRAPHY EXAM DATE: 06/17/2021 ...   \n",
       "\n",
       "                                          impression  \n",
       "0       IMPRESSION: Normal 2-view chest radiography.  \n",
       "1  IMPRESSION: No acute cardiopulmonary abnormali...  \n",
       "2     IMPRESSION: No acute cardiopulmonary process.   \n",
       "3                            Impression: Lungs clear  \n",
       "4             IMPRESSION: Normal single view chest.   "
      ]
     },
     "execution_count": 2,
     "metadata": {},
     "output_type": "execute_result"
    }
   ],
   "source": [
    "# Set up document text\n",
    "report = pd.read_csv(\"open_ave_data2.csv\")\n",
    "report = report.iloc[:,2:6]\n",
    "report.head()"
   ]
  },
  {
   "cell_type": "code",
   "execution_count": 3,
   "id": "cdee181e",
   "metadata": {
    "scrolled": false
   },
   "outputs": [
    {
     "name": "stdout",
     "output_type": "stream",
     "text": [
      "- Report df columns:\n",
      "Index(['findings', 'clinicaldata', 'ExamName', 'impression'], dtype='object')\n",
      "\n",
      "- Report df shape:\n",
      "(954, 4)\n",
      "\n"
     ]
    },
    {
     "name": "stderr",
     "output_type": "stream",
     "text": [
      "[nltk_data] Downloading package punkt to /Users/steveg/nltk_data...\n",
      "[nltk_data]   Package punkt is already up-to-date!\n"
     ]
    },
    {
     "name": "stdout",
     "output_type": "stream",
     "text": [
      "- List shape:\n",
      "3816\n",
      "\n"
     ]
    }
   ],
   "source": [
    "# Check df columns\n",
    "print(\"- Report df columns:\")\n",
    "print(report.columns)\n",
    "print()\n",
    "\n",
    "# Check df shape\n",
    "print(\"- Report df shape:\")\n",
    "print(report.shape)\n",
    "print()\n",
    "\n",
    "# Convert pandas dataframe --> numpy array --> String\n",
    "report_arr = report.values\n",
    "report_arr = report_arr.reshape((report_arr.size,1))\n",
    "temp_report_list = report_arr.tolist()\n",
    "\n",
    "# String data Preprocessing: \n",
    "## Remove NAN value\n",
    "imputer = SimpleImputer(strategy='constant', fill_value='')\n",
    "temp2_report_list = imputer.fit_transform(temp_report_list)\n",
    "\n",
    "## Force list type --> String type\n",
    "temp3_report_list = [element[0] for element in temp2_report_list]\n",
    "\n",
    "## Clean special characters & numeric\n",
    "nltk.download('punkt') # Download Pre-trained NLP Tokenizer Model\n",
    "def clean_text(text):\n",
    "    words = word_tokenize(text)\n",
    "    clean_text = ' '.join([word for word in words if word.isalpha()])\n",
    "    return clean_text\n",
    "report_list = [clean_text(text) for text in temp3_report_list]\n",
    "\n",
    "# Check array shape\n",
    "print(\"- List shape:\")\n",
    "print(len(report_list))\n",
    "print()"
   ]
  },
  {
   "cell_type": "code",
   "execution_count": 4,
   "id": "575f309d",
   "metadata": {},
   "outputs": [],
   "source": [
    "# Generate tfidf embedding\n",
    "vectorizer = TfidfVectorizer(stop_words='english', max_features=100)\n",
    "# Normalize embedding with L2 \n",
    "X = vectorizer.fit_transform(report_list)"
   ]
  },
  {
   "cell_type": "code",
   "execution_count": 5,
   "id": "146d30e4",
   "metadata": {},
   "outputs": [],
   "source": [
    "# Create feature and outcome arrays for ML task\n",
    "X_arr = X.toarray()\n",
    "temp_list = []\n",
    "for row in report.itertuples(index=False):\n",
    "    for col, cell in enumerate(row):\n",
    "        temp_list.append(col)\n",
    "Y_arr = np.array(temp_list)\n",
    "        \n",
    "# Train/Test Split(0.8/0.2)\n",
    "X_train, X_test, Y_train, Y_test = train_test_split(X_arr, Y_arr, test_size=0.2, random_state=1, shuffle=True)"
   ]
  },
  {
   "cell_type": "code",
   "execution_count": 6,
   "id": "59e80c10",
   "metadata": {},
   "outputs": [
    {
     "name": "stdout",
     "output_type": "stream",
     "text": [
      "Accuracy Score: 0.9973821989528796\n",
      "\n"
     ]
    },
    {
     "data": {
      "text/plain": [
       "<sklearn.metrics._plot.confusion_matrix.ConfusionMatrixDisplay at 0x117d6a6b0>"
      ]
     },
     "execution_count": 6,
     "metadata": {},
     "output_type": "execute_result"
    },
    {
     "data": {
      "image/png": "[encoded data removed]",
      "text/plain": [
       "<Figure size 640x480 with 2 Axes>"
      ]
     },
     "metadata": {},
     "output_type": "display_data"
    }
   ],
   "source": [
    "# Model Construction\n",
    "model = LogisticRegression(penalty='l2', random_state=1, solver='lbfgs', multi_class='multinomial')\n",
    "\n",
    "# Model Training\n",
    "model = model.fit(X_train, Y_train)\n",
    "\n",
    "# Model Prediction\n",
    "Y_pred = model.predict(X_test)\n",
    "\n",
    "# Model Evaluation (Accuracy)\n",
    "score = model.score(X_test, Y_test)\n",
    "print(\"Accuracy Score:\", score)\n",
    "print()\n",
    "\n",
    "# Model Evaluation (Confusion Matrix)\n",
    "C = confusion_matrix(Y_test, Y_pred, labels=[0,1,2,3])\n",
    "ConfusionMatrixDisplay(C, display_labels=[\"Findings\", \"ClinicalData\", \"ExamNames\", \"Impressions\"]).plot()"
   ]
  },
  {
   "cell_type": "code",
   "execution_count": 11,
   "id": "90a4767d",
   "metadata": {},
   "outputs": [
    {
     "name": "stdout",
     "output_type": "stream",
     "text": [
      "              precision    recall  f1-score   support\n",
      "\n",
      "    Findings       1.00      0.99      0.99       179\n",
      "ClinicalData       1.00      1.00      1.00       201\n",
      "   ExamNames       0.99      1.00      1.00       193\n",
      " Impressions       0.99      1.00      1.00       191\n",
      "\n",
      "    accuracy                           1.00       764\n",
      "   macro avg       1.00      1.00      1.00       764\n",
      "weighted avg       1.00      1.00      1.00       764\n",
      "\n"
     ]
    }
   ],
   "source": [
    "# More Model Evaluation (Classification Report)\n",
    "print(classification_report(Y_test, Y_pred, target_names=[\"Findings\", \"ClinicalData\", \"ExamNames\", \"Impressions\"]))"
   ]
  },
  {
   "cell_type": "code",
   "execution_count": null,
   "id": "9c6eb4be",
   "metadata": {},
   "outputs": [],
   "source": []
  }
 ],
 "metadata": {
  "kernelspec": {
   "display_name": "Python 3 (ipykernel)",
   "language": "python",
   "name": "python3"
  },
  "language_info": {
   "codemirror_mode": {
    "name": "ipython",
    "version": 3
   },
   "file_extension": ".py",
   "mimetype": "text/x-python",
   "name": "python",
   "nbconvert_exporter": "python",
   "pygments_lexer": "ipython3",
   "version": "3.10.9"
  }
 },
 "nbformat": 4,
 "nbformat_minor": 5
}
